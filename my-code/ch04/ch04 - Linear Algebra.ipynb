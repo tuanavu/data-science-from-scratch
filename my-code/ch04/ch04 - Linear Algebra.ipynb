{
 "cells": [
  {
   "cell_type": "markdown",
   "metadata": {},
   "source": [
    "Linear algebra is the branch of mathematics that deals with vector spaces. Although I\n",
    "can’t hope to teach you linear algebra in a brief chapter, it underpins a large number\n",
    "of data science concepts and techniques, which means I owe it to you to at least try.\n",
    "What we learn in this chapter we’ll use heavily throughout the rest of the book."
   ]
  },
  {
   "cell_type": "markdown",
   "metadata": {},
   "source": [
    "# 1) Vectors"
   ]
  },
  {
   "cell_type": "markdown",
   "metadata": {},
   "source": [
    "Abstractly, vectors are objects that can be added together (to form new vectors) and\n",
    "that can be multiplied by scalars (i.e., numbers), also to form new vectors.\n",
    "\n",
    "Concretely (for us), vectors are points in some finite-dimensional space. Although\n",
    "you might not think of your data as vectors, they are a good way to represent numeric\n",
    "data.\n",
    "\n",
    "For example, if you have the heights, weights, and ages of a large number of people,\n",
    "you can treat your data as three-dimensional vectors (height, weight, age). If\n",
    "you’re teaching a class with four exams, you can treat student grades as fourdimensional\n",
    "vectors (exam1, exam2, exam3, exam4).\n",
    "\n",
    "The simplest from-scratch approach is to represent vectors as lists of numbers. A list\n",
    "of three numbers corresponds to a vector in three-dimensional space, and vice versa:"
   ]
  },
  {
   "cell_type": "code",
   "execution_count": 1,
   "metadata": {
    "collapsed": true
   },
   "outputs": [],
   "source": [
    "height_weight_age = [70, # inches,\n",
    "                    170, # pounds,\n",
    "                    40 ] # years\n",
    "\n",
    "grades = [95, # exam1\n",
    "          80, # exam2\n",
    "          75, # exam3\n",
    "          62 ] # exam4"
   ]
  },
  {
   "cell_type": "markdown",
   "metadata": {},
   "source": [
    "One problem with this approach is that we will want to perform arithmetic on vectors.\n",
    "Because Python lists aren’t vectors (and hence provide no facilities for vector\n",
    "arithmetic), we’ll need to build these arithmetic tools ourselves. So let’s start with that.\n",
    "\n",
    "To begin with, we’ll frequently need to add two vectors. Vectors add componentwise.\n",
    "This means that if two vectors v and w are the same length, their sum is just the vector\n",
    "whose first element is v[0] + w[0], whose second element is v[1] + w[1], and so\n",
    "on. (If they’re not the same length, then we’re not allowed to add them.)\n",
    "\n",
    "For example, adding the vectors [1, 2] and [2, 1] results in [1 + 2, 2 + 1] or [3,\n",
    "3], as shown in Figure 4-1."
   ]
  },
  {
   "cell_type": "markdown",
   "metadata": {},
   "source": [
    "<img src=\"images/pic01.bmp\">\n",
    "\n",
    "<!--TEASER_END-->"
   ]
  },
  {
   "cell_type": "markdown",
   "metadata": {},
   "source": [
    "We can easily implement this by zip-ing the vectors together and using a list comprehension\n",
    "to add the corresponding elements:"
   ]
  },
  {
   "cell_type": "code",
   "execution_count": 2,
   "metadata": {
    "collapsed": true
   },
   "outputs": [],
   "source": [
    "def vector_add(v, w):\n",
    "    \"\"\"adds corresponding elements\"\"\"\n",
    "    return [v_i + w_i\n",
    "            for v_i, w_i in zip(v, w)]"
   ]
  },
  {
   "cell_type": "markdown",
   "metadata": {},
   "source": [
    "Similarly, to subtract two vectors we just subtract corresponding elements:"
   ]
  },
  {
   "cell_type": "code",
   "execution_count": 3,
   "metadata": {
    "collapsed": true
   },
   "outputs": [],
   "source": [
    "def vector_subtract(v, w):\n",
    "    \"\"\"subtracts corresponding elements\"\"\"\n",
    "    return [v_i - w_i\n",
    "            for v_i, w_i in zip(v, w)]"
   ]
  },
  {
   "cell_type": "markdown",
   "metadata": {},
   "source": [
    "We’ll also sometimes want to componentwise sum a list of vectors. That is, create a\n",
    "new vector whose first element is the sum of all the first elements, whose second element\n",
    "is the sum of all the second elements, and so on. The easiest way to do this is by\n",
    "adding one vector at a time:"
   ]
  },
  {
   "cell_type": "code",
   "execution_count": 4,
   "metadata": {
    "collapsed": true
   },
   "outputs": [],
   "source": [
    "def vector_sum(vectors):\n",
    "    \"\"\"sums all corresponding elements\"\"\"\n",
    "    result = vectors[0] # start with the first vector\n",
    "    for vector in vectors[1:]: # then loop over the others\n",
    "        result = vector_add(result, vector) # and add them to the result\n",
    "    return result"
   ]
  },
  {
   "cell_type": "code",
   "execution_count": null,
   "metadata": {
    "collapsed": true
   },
   "outputs": [],
   "source": []
  }
 ],
 "metadata": {
  "kernelspec": {
   "display_name": "Python 2",
   "language": "python",
   "name": "python2"
  },
  "language_info": {
   "codemirror_mode": {
    "name": "ipython",
    "version": 2
   },
   "file_extension": ".py",
   "mimetype": "text/x-python",
   "name": "python",
   "nbconvert_exporter": "python",
   "pygments_lexer": "ipython2",
   "version": "2.7.10"
  }
 },
 "nbformat": 4,
 "nbformat_minor": 0
}
